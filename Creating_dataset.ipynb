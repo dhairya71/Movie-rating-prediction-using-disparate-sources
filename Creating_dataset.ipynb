{
  "nbformat": 4,
  "nbformat_minor": 0,
  "metadata": {
    "colab": {
      "name": "Creating_dataset.ipynb",
      "provenance": [],
      "collapsed_sections": []
    },
    "kernelspec": {
      "name": "python3",
      "display_name": "Python 3"
    }
  },
  "cells": [
    {
      "cell_type": "code",
      "metadata": {
        "id": "Qr_LgQpe-w01",
        "outputId": "0b48a0cc-4a0e-4cbf-b7a7-dc02a7d72934",
        "colab": {
          "base_uri": "https://localhost:8080/",
          "height": 156
        }
      },
      "source": [
        "!pip install IMDbPY"
      ],
      "execution_count": null,
      "outputs": [
        {
          "output_type": "stream",
          "text": [
            "Collecting IMDbPY\n",
            "\u001b[?25l  Downloading https://files.pythonhosted.org/packages/95/23/60a7244a2d3473c80f71ae8dad832047058dc346525b3a6eacad78bc8d62/IMDbPY-6.7-py3-none-any.whl (285kB)\n",
            "\u001b[K     |████████████████████████████████| 286kB 5.0MB/s \n",
            "\u001b[?25hRequirement already satisfied: SQLAlchemy in /usr/local/lib/python3.6/dist-packages (from IMDbPY) (1.3.5)\n",
            "Requirement already satisfied: lxml in /usr/local/lib/python3.6/dist-packages (from IMDbPY) (4.2.6)\n",
            "Installing collected packages: IMDbPY\n",
            "Successfully installed IMDbPY-6.7\n"
          ],
          "name": "stdout"
        }
      ]
    },
    {
      "cell_type": "code",
      "metadata": {
        "id": "meuspYSOAP2t"
      },
      "source": [
        "import imdb"
      ],
      "execution_count": null,
      "outputs": []
    },
    {
      "cell_type": "code",
      "metadata": {
        "id": "UtUUSRbTARIj"
      },
      "source": [
        "obj = imdb.IMDb()"
      ],
      "execution_count": null,
      "outputs": []
    },
    {
      "cell_type": "code",
      "metadata": {
        "id": "XLSWxDQkAXyT"
      },
      "source": [
        "def rating(movie):  \n",
        "  a = obj.search_movie(movie)\n",
        "  b = obj.get_movie(a[0].movieID)\n",
        "  li =  b.get('rating')\n",
        "  return li\n",
        "  \n",
        "                     "
      ],
      "execution_count": null,
      "outputs": []
    },
    {
      "cell_type": "code",
      "metadata": {
        "id": "WFeG6KigAdrg",
        "outputId": "eca7e4b2-2c0f-4b56-eae4-470a30bce78a",
        "colab": {
          "base_uri": "https://localhost:8080/",
          "height": 34
        }
      },
      "source": [
        "imdb.__version__"
      ],
      "execution_count": null,
      "outputs": [
        {
          "output_type": "execute_result",
          "data": {
            "text/plain": [
              "'6.7'"
            ]
          },
          "metadata": {
            "tags": []
          },
          "execution_count": 9
        }
      ]
    },
    {
      "cell_type": "code",
      "metadata": {
        "id": "u6ZRpJvRAu12"
      },
      "source": [
        "import pandas as pd"
      ],
      "execution_count": null,
      "outputs": []
    },
    {
      "cell_type": "code",
      "metadata": {
        "id": "Vb-SJIqsCWih"
      },
      "source": [
        "df = pd.read_csv('bollywood (1).csv', low_memory = False, encoding = 'unicode_escape', usecols = ['Title'], header = 0)"
      ],
      "execution_count": null,
      "outputs": []
    },
    {
      "cell_type": "code",
      "metadata": {
        "id": "33tHGGFrnzN3"
      },
      "source": [
        "df1 = df[8540:]"
      ],
      "execution_count": null,
      "outputs": []
    },
    {
      "cell_type": "code",
      "metadata": {
        "id": "ATqajPGIoaZx"
      },
      "source": [
        "df1.head()"
      ],
      "execution_count": null,
      "outputs": []
    },
    {
      "cell_type": "code",
      "metadata": {
        "id": "T7uSPXN7owg5"
      },
      "source": [
        "import numpy as np"
      ],
      "execution_count": null,
      "outputs": []
    },
    {
      "cell_type": "code",
      "metadata": {
        "id": "YTviTZfKpNfv"
      },
      "source": [
        "df1 = df1.values"
      ],
      "execution_count": null,
      "outputs": []
    },
    {
      "cell_type": "code",
      "metadata": {
        "id": "juXtE94zpVD9"
      },
      "source": [
        "df1"
      ],
      "execution_count": null,
      "outputs": []
    },
    {
      "cell_type": "code",
      "metadata": {
        "id": "LWfgU4mJpZum"
      },
      "source": [
        "df1 = df1.tolist()"
      ],
      "execution_count": null,
      "outputs": []
    },
    {
      "cell_type": "code",
      "metadata": {
        "id": "frTVdWdDra0F"
      },
      "source": [
        "new = sum(df1,[])"
      ],
      "execution_count": null,
      "outputs": []
    },
    {
      "cell_type": "code",
      "metadata": {
        "id": "5yY6GTuasik3"
      },
      "source": [
        "new"
      ],
      "execution_count": null,
      "outputs": []
    },
    {
      "cell_type": "code",
      "metadata": {
        "id": "VQEtkazYsjRt"
      },
      "source": [
        "data = []\n",
        "\n",
        "for i in range(len(new)):\n",
        "  try:\n",
        "    a = [new[i], rating('\"'+ new[i]+ '\"')]\n",
        "    data.append(a)\n",
        "    print(i)\n",
        "  \n",
        "  except IndexError:\n",
        "    continue\n",
        "  "
      ],
      "execution_count": null,
      "outputs": []
    },
    {
      "cell_type": "code",
      "metadata": {
        "id": "7Rvi3OertKn1"
      },
      "source": [
        "len(new)"
      ],
      "execution_count": null,
      "outputs": []
    },
    {
      "cell_type": "code",
      "metadata": {
        "id": "VL0jF9kdxHi5"
      },
      "source": [
        "new"
      ],
      "execution_count": null,
      "outputs": []
    },
    {
      "cell_type": "code",
      "metadata": {
        "id": "78nWb4uTMj-Y"
      },
      "source": [
        "data"
      ],
      "execution_count": null,
      "outputs": []
    },
    {
      "cell_type": "code",
      "metadata": {
        "id": "u1oUZbevNBCY"
      },
      "source": [
        "new_data = pd.DataFrame(data)"
      ],
      "execution_count": null,
      "outputs": []
    },
    {
      "cell_type": "code",
      "metadata": {
        "id": "3n6idaBYNVj7"
      },
      "source": [
        "new_data.count()"
      ],
      "execution_count": null,
      "outputs": []
    },
    {
      "cell_type": "code",
      "metadata": {
        "id": "pFjIK9BINheF"
      },
      "source": [
        "new_data.to_csv('IMDB_ratings.csv')"
      ],
      "execution_count": null,
      "outputs": []
    },
    {
      "cell_type": "code",
      "metadata": {
        "id": "sfTbb_H1YDLK"
      },
      "source": [
        "df = pd.read_csv(\"IMDB_ratings.csv\")"
      ],
      "execution_count": null,
      "outputs": []
    },
    {
      "cell_type": "code",
      "metadata": {
        "id": "gbP9z8qyZE6s"
      },
      "source": [
        "df[0:1]"
      ],
      "execution_count": null,
      "outputs": []
    },
    {
      "cell_type": "code",
      "metadata": {
        "id": "WnANQQsIZiwX"
      },
      "source": [
        "null_data = df[df.isnull().any(axis=1)]"
      ],
      "execution_count": null,
      "outputs": []
    },
    {
      "cell_type": "code",
      "metadata": {
        "id": "1p0-MnrJaRvl"
      },
      "source": [
        "null_data"
      ],
      "execution_count": null,
      "outputs": []
    },
    {
      "cell_type": "code",
      "metadata": {
        "id": "x60KunyPbd0d"
      },
      "source": [
        "df = df.dropna()"
      ],
      "execution_count": null,
      "outputs": []
    },
    {
      "cell_type": "code",
      "metadata": {
        "id": "j3t8cjX-blh6"
      },
      "source": [
        "df.count()"
      ],
      "execution_count": null,
      "outputs": []
    },
    {
      "cell_type": "code",
      "metadata": {
        "id": "IkX86M4cb2xU"
      },
      "source": [
        "df.to_csv(\"IMDB_ratings_not_null.csv\")"
      ],
      "execution_count": null,
      "outputs": []
    },
    {
      "cell_type": "code",
      "metadata": {
        "id": "OzTvyMN9b-Nn"
      },
      "source": [
        "num = rating('Ra. One')"
      ],
      "execution_count": null,
      "outputs": []
    },
    {
      "cell_type": "code",
      "metadata": {
        "id": "mWX5v-NVYYuA",
        "outputId": "a97e0aa3-c25a-40c5-d49a-6dde12feecdd",
        "colab": {
          "base_uri": "https://localhost:8080/",
          "height": 34
        }
      },
      "source": [
        "num"
      ],
      "execution_count": null,
      "outputs": [
        {
          "output_type": "execute_result",
          "data": {
            "text/plain": [
              "4.8"
            ]
          },
          "metadata": {
            "tags": []
          },
          "execution_count": 13
        }
      ]
    },
    {
      "cell_type": "code",
      "metadata": {
        "id": "kG6XPdnCYgWI"
      },
      "source": [
        ""
      ],
      "execution_count": null,
      "outputs": []
    },
    {
      "cell_type": "markdown",
      "metadata": {
        "id": "MwTqa0DeMU5e"
      },
      "source": [
        "\n",
        "\n",
        "---\n",
        "\n",
        "\n",
        "\n",
        "---\n",
        "\n"
      ]
    },
    {
      "cell_type": "code",
      "metadata": {
        "id": "7KKiKLnVMV6i"
      },
      "source": [
        "a = obj.search_movie('Love in bombay')"
      ],
      "execution_count": null,
      "outputs": []
    },
    {
      "cell_type": "code",
      "metadata": {
        "id": "O0wyLaPJsQgl",
        "outputId": "ff61c0df-a460-43a3-f450-9e20d13e3225",
        "colab": {
          "base_uri": "https://localhost:8080/",
          "height": 357
        }
      },
      "source": [
        "a"
      ],
      "execution_count": null,
      "outputs": [
        {
          "output_type": "execute_result",
          "data": {
            "text/plain": [
              "[<Movie id:6988116[http] title:_Kalank (2019)_>,\n",
              " <Movie id:0415908[http] title:_Kaal (2005)_>,\n",
              " <Movie id:4936448[http] title:_Kalank (1979)_>,\n",
              " <Movie id:7138910[http] title:_Kalankini Badhu (2000)_>,\n",
              " <Movie id:0215888[http] title:_Kalankini (1981)_>,\n",
              " <Movie id:0234002[http] title:_Kalankini Kankabati (1981)_>,\n",
              " <Movie id:2011079[http] title:_Kalank Ka Tika (1986) (V)_>,\n",
              " <Movie id:1476997[http] title:_Kalankari Vilakkam (1965)_>,\n",
              " <Movie id:10196536[http] title:_\"Film Companion: Movie Reviews\" Kalank (2019)_>,\n",
              " <Movie id:0213757[http] title:_Kalank Shobha (1961)_>,\n",
              " <Movie id:5232400[http] title:_Kalank: Stigma (2015)_>,\n",
              " <Movie id:0370857[http] title:_Kul Kalank (1945)_>,\n",
              " <Movie id:4599252[http] title:_\"Egynyári kaland\" (2015)_>,\n",
              " <Movie id:0028607[http] title:_Bank Alarm (1937)_>,\n",
              " <Movie id:8665610[http] title:_Kay Zala Kalana (2018)_>,\n",
              " <Movie id:10289564[http] title:_Kalantaka (2019)_>,\n",
              " <Movie id:0408982[http] title:_Labs kita, Okey ka lang? (1998)_>,\n",
              " <Movie id:1817711[http] title:_Kaland (2011)_>,\n",
              " <Movie id:1158223[http] title:_Akal-akalan (1991)_>,\n",
              " <Movie id:10141042[http] title:_\"The Kapil Sharma Show\" The Star-Cast of Kalank (2019)_>]"
            ]
          },
          "metadata": {
            "tags": []
          },
          "execution_count": 6
        }
      ]
    },
    {
      "cell_type": "code",
      "metadata": {
        "id": "L2LpINCOMfj3"
      },
      "source": [
        "b = obj.get_movie_infoset()"
      ],
      "execution_count": null,
      "outputs": []
    },
    {
      "cell_type": "code",
      "metadata": {
        "id": "qi5DxLd0Mi7o"
      },
      "source": [
        "c = obj.get_movie(a[0].movieID)"
      ],
      "execution_count": null,
      "outputs": []
    },
    {
      "cell_type": "code",
      "metadata": {
        "id": "pvExarr5Mjhj"
      },
      "source": [
        "d = c.get('genres')"
      ],
      "execution_count": null,
      "outputs": []
    },
    {
      "cell_type": "code",
      "metadata": {
        "id": "NYs7kVC1Mu9w"
      },
      "source": [
        "d"
      ],
      "execution_count": null,
      "outputs": []
    },
    {
      "cell_type": "code",
      "metadata": {
        "id": "ONcFpj4vM47j"
      },
      "source": [
        "ia = imdb.IMDb()\n",
        "search_results = ia.search_movie('men in black')\n",
        "\n",
        "if search_results:\n",
        "  movieID = search_results[0].movieID\n",
        "  movie = ia.get_movie(movieID)\n",
        "    if movie:\n",
        "      cast = movie.get('genres')\n",
        "      topActors = 4\n",
        "      for actor in cast[:topActors]:\n",
        "        print (\"{0}\".format(actor['name']))"
      ],
      "execution_count": null,
      "outputs": []
    },
    {
      "cell_type": "code",
      "metadata": {
        "id": "71rvmYMeNIGZ",
        "outputId": "9bbce2e0-6941-437b-f4f9-ff39a6c46679",
        "colab": {
          "base_uri": "https://localhost:8080/",
          "height": 34
        }
      },
      "source": [
        "rating('Genius')"
      ],
      "execution_count": null,
      "outputs": [
        {
          "output_type": "execute_result",
          "data": {
            "text/plain": [
              "8.4"
            ]
          },
          "metadata": {
            "tags": []
          },
          "execution_count": 19
        }
      ]
    },
    {
      "cell_type": "code",
      "metadata": {
        "id": "cOc0-cu08sEg",
        "outputId": "320bc6f8-2b7a-4811-a840-6b1e3a5310b4",
        "colab": {
          "base_uri": "https://localhost:8080/",
          "height": 34
        }
      },
      "source": [
        "a"
      ],
      "execution_count": null,
      "outputs": [
        {
          "output_type": "execute_result",
          "data": {
            "text/plain": [
              "7.0"
            ]
          },
          "metadata": {
            "tags": []
          },
          "execution_count": 14
        }
      ]
    },
    {
      "cell_type": "code",
      "metadata": {
        "id": "T87WCwOs82ts"
      },
      "source": [
        ""
      ],
      "execution_count": null,
      "outputs": []
    }
  ]
}