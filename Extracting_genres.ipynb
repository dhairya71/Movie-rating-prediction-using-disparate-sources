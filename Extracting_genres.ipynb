{
  "nbformat": 4,
  "nbformat_minor": 0,
  "metadata": {
    "colab": {
      "name": "Extracting_genres.ipynb",
      "provenance": [],
      "collapsed_sections": []
    },
    "kernelspec": {
      "name": "python3",
      "display_name": "Python 3"
    }
  },
  "cells": [
    {
      "cell_type": "code",
      "metadata": {
        "id": "sOnXWR1X9ulT"
      },
      "source": [
        "!pip install IMDbPY\n",
        "import imdb\n",
        "arr = []\n",
        "for i in range(len(df1)):\n",
        "  try:\n",
        "    o = imdb.IMDb()\n",
        "    a = o.search_movie(df1[i])\n",
        "    b = o.get_movie(a[0].movieID)\n",
        "    c = b.get('genres')\n",
        "    arr.append(genre(c[0]))\n",
        "    print(i)\n",
        "    \n",
        "  except:\n",
        "    arr.append(0)\n",
        "    \n",
        "def genre(gen):\n",
        "  switcher={\n",
        "            'Adventure':1,\n",
        "            'Action':2,\n",
        "            'Drama':4,\n",
        "            'Comedy':3,\n",
        "            'Thriller':5,\n",
        "            'Horror':7,\n",
        "            'Crime':6,\n",
        "            'Western':10, \n",
        "            'Short':11,\n",
        "            'Animation':8,\n",
        "            'History':9,\n",
        "             }\n",
        "  return switcher.get(gen,6)"
      ],
      "execution_count": null,
      "outputs": []
    },
    {
      "cell_type": "code",
      "metadata": {
        "id": "Axmdj9smdMi-"
      },
      "source": [
        "for actor in cast[:4]:\n",
        "             print (\"{0}\".format(actor['name']))"
      ],
      "execution_count": null,
      "outputs": []
    },
    {
      "cell_type": "code",
      "metadata": {
        "id": "KZ0jRhIvdNLP",
        "outputId": "f933b02a-d81d-4da4-9705-cb556895f6f2",
        "colab": {
          "base_uri": "https://localhost:8080/",
          "height": 34
        }
      },
      "source": [
        "cast[0]"
      ],
      "execution_count": null,
      "outputs": [
        {
          "output_type": "execute_result",
          "data": {
            "text/plain": [
              "'Action'"
            ]
          },
          "metadata": {
            "tags": []
          },
          "execution_count": 7
        }
      ]
    },
    {
      "cell_type": "code",
      "metadata": {
        "id": "z2TsABA5Xzvj",
        "outputId": "fa1669cf-d742-4836-d7e2-93df0ee86f0e",
        "colab": {
          "base_uri": "https://localhost:8080/",
          "height": 34
        }
      },
      "source": [
        "genre(cast[0])"
      ],
      "execution_count": null,
      "outputs": [
        {
          "output_type": "execute_result",
          "data": {
            "text/plain": [
              "2"
            ]
          },
          "metadata": {
            "tags": []
          },
          "execution_count": 10
        }
      ]
    },
    {
      "cell_type": "code",
      "metadata": {
        "id": "sJMmFwpXi6IS"
      },
      "source": [
        "import pandas as pd\n",
        "import numpy as np\n",
        "\n",
        "df = pd.read_csv('IMDB_ratings_not_null.csv')\n",
        "df1 = df['Title']\n",
        "df1 = df1.values"
      ],
      "execution_count": null,
      "outputs": []
    },
    {
      "cell_type": "code",
      "metadata": {
        "id": "O55plUo3jNCf"
      },
      "source": [
        "ab = pd.read_csv('Dataset_G_news.csv')"
      ],
      "execution_count": null,
      "outputs": []
    },
    {
      "cell_type": "code",
      "metadata": {
        "id": "QsaVxuCq4DmU",
        "outputId": "79542911-4540-42a0-fa1f-9ca57447bcb5",
        "colab": {
          "base_uri": "https://localhost:8080/",
          "height": 204
        }
      },
      "source": [
        "ab.head()"
      ],
      "execution_count": null,
      "outputs": [
        {
          "output_type": "execute_result",
          "data": {
            "text/html": [
              "<div>\n",
              "<style scoped>\n",
              "    .dataframe tbody tr th:only-of-type {\n",
              "        vertical-align: middle;\n",
              "    }\n",
              "\n",
              "    .dataframe tbody tr th {\n",
              "        vertical-align: top;\n",
              "    }\n",
              "\n",
              "    .dataframe thead th {\n",
              "        text-align: right;\n",
              "    }\n",
              "</style>\n",
              "<table border=\"1\" class=\"dataframe\">\n",
              "  <thead>\n",
              "    <tr style=\"text-align: right;\">\n",
              "      <th></th>\n",
              "      <th>Unnamed: 0</th>\n",
              "      <th>Title</th>\n",
              "      <th>IMDB</th>\n",
              "      <th>G_news</th>\n",
              "    </tr>\n",
              "  </thead>\n",
              "  <tbody>\n",
              "    <tr>\n",
              "      <th>0</th>\n",
              "      <td>0</td>\n",
              "      <td>Dulha Mil Gaya</td>\n",
              "      <td>4.4</td>\n",
              "      <td>0.60</td>\n",
              "    </tr>\n",
              "    <tr>\n",
              "      <th>1</th>\n",
              "      <td>1</td>\n",
              "      <td>Pyaar Impossible!</td>\n",
              "      <td>4.7</td>\n",
              "      <td>0.45</td>\n",
              "    </tr>\n",
              "    <tr>\n",
              "      <th>2</th>\n",
              "      <td>2</td>\n",
              "      <td>Chance Pe Dance</td>\n",
              "      <td>4.7</td>\n",
              "      <td>0.65</td>\n",
              "    </tr>\n",
              "    <tr>\n",
              "      <th>3</th>\n",
              "      <td>3</td>\n",
              "      <td>Hello! Hum Lallan Bol Rahe Hain</td>\n",
              "      <td>6.3</td>\n",
              "      <td>0.55</td>\n",
              "    </tr>\n",
              "    <tr>\n",
              "      <th>4</th>\n",
              "      <td>4</td>\n",
              "      <td>The Waiting Room</td>\n",
              "      <td>6.5</td>\n",
              "      <td>0.40</td>\n",
              "    </tr>\n",
              "  </tbody>\n",
              "</table>\n",
              "</div>"
            ],
            "text/plain": [
              "   Unnamed: 0                            Title  IMDB  G_news\n",
              "0           0                   Dulha Mil Gaya   4.4    0.60\n",
              "1           1                Pyaar Impossible!   4.7    0.45\n",
              "2           2                  Chance Pe Dance   4.7    0.65\n",
              "3           3  Hello! Hum Lallan Bol Rahe Hain   6.3    0.55\n",
              "4           4                 The Waiting Room   6.5    0.40"
            ]
          },
          "metadata": {
            "tags": []
          },
          "execution_count": 37
        }
      ]
    },
    {
      "cell_type": "code",
      "metadata": {
        "id": "Dc0iXq0Z4HUn"
      },
      "source": [
        "ab['Genre'] = arr"
      ],
      "execution_count": null,
      "outputs": []
    },
    {
      "cell_type": "code",
      "metadata": {
        "id": "AZ1DlzsN4c4h",
        "outputId": "a8ab61ea-e139-49a6-a673-b5a12bed3a2a",
        "colab": {
          "base_uri": "https://localhost:8080/",
          "height": 204
        }
      },
      "source": [
        "ab.head()"
      ],
      "execution_count": null,
      "outputs": [
        {
          "output_type": "execute_result",
          "data": {
            "text/html": [
              "<div>\n",
              "<style scoped>\n",
              "    .dataframe tbody tr th:only-of-type {\n",
              "        vertical-align: middle;\n",
              "    }\n",
              "\n",
              "    .dataframe tbody tr th {\n",
              "        vertical-align: top;\n",
              "    }\n",
              "\n",
              "    .dataframe thead th {\n",
              "        text-align: right;\n",
              "    }\n",
              "</style>\n",
              "<table border=\"1\" class=\"dataframe\">\n",
              "  <thead>\n",
              "    <tr style=\"text-align: right;\">\n",
              "      <th></th>\n",
              "      <th>Unnamed: 0</th>\n",
              "      <th>Title</th>\n",
              "      <th>IMDB</th>\n",
              "      <th>G_news</th>\n",
              "      <th>Genre</th>\n",
              "    </tr>\n",
              "  </thead>\n",
              "  <tbody>\n",
              "    <tr>\n",
              "      <th>0</th>\n",
              "      <td>0</td>\n",
              "      <td>Dulha Mil Gaya</td>\n",
              "      <td>4.4</td>\n",
              "      <td>0.60</td>\n",
              "      <td>3</td>\n",
              "    </tr>\n",
              "    <tr>\n",
              "      <th>1</th>\n",
              "      <td>1</td>\n",
              "      <td>Pyaar Impossible!</td>\n",
              "      <td>4.7</td>\n",
              "      <td>0.45</td>\n",
              "      <td>3</td>\n",
              "    </tr>\n",
              "    <tr>\n",
              "      <th>2</th>\n",
              "      <td>2</td>\n",
              "      <td>Chance Pe Dance</td>\n",
              "      <td>4.7</td>\n",
              "      <td>0.65</td>\n",
              "      <td>3</td>\n",
              "    </tr>\n",
              "    <tr>\n",
              "      <th>3</th>\n",
              "      <td>3</td>\n",
              "      <td>Hello! Hum Lallan Bol Rahe Hain</td>\n",
              "      <td>6.3</td>\n",
              "      <td>0.55</td>\n",
              "      <td>3</td>\n",
              "    </tr>\n",
              "    <tr>\n",
              "      <th>4</th>\n",
              "      <td>4</td>\n",
              "      <td>The Waiting Room</td>\n",
              "      <td>6.5</td>\n",
              "      <td>0.40</td>\n",
              "      <td>11</td>\n",
              "    </tr>\n",
              "  </tbody>\n",
              "</table>\n",
              "</div>"
            ],
            "text/plain": [
              "   Unnamed: 0                            Title  IMDB  G_news  Genre\n",
              "0           0                   Dulha Mil Gaya   4.4    0.60      3\n",
              "1           1                Pyaar Impossible!   4.7    0.45      3\n",
              "2           2                  Chance Pe Dance   4.7    0.65      3\n",
              "3           3  Hello! Hum Lallan Bol Rahe Hain   6.3    0.55      3\n",
              "4           4                 The Waiting Room   6.5    0.40     11"
            ]
          },
          "metadata": {
            "tags": []
          },
          "execution_count": 39
        }
      ]
    },
    {
      "cell_type": "code",
      "metadata": {
        "id": "ygcCb9F14e7k",
        "outputId": "87a3a0c9-249e-4c47-a4d1-a3efa9952b9a",
        "colab": {
          "base_uri": "https://localhost:8080/",
          "height": 204
        }
      },
      "source": [
        "ab.tail()"
      ],
      "execution_count": null,
      "outputs": [
        {
          "output_type": "execute_result",
          "data": {
            "text/html": [
              "<div>\n",
              "<style scoped>\n",
              "    .dataframe tbody tr th:only-of-type {\n",
              "        vertical-align: middle;\n",
              "    }\n",
              "\n",
              "    .dataframe tbody tr th {\n",
              "        vertical-align: top;\n",
              "    }\n",
              "\n",
              "    .dataframe thead th {\n",
              "        text-align: right;\n",
              "    }\n",
              "</style>\n",
              "<table border=\"1\" class=\"dataframe\">\n",
              "  <thead>\n",
              "    <tr style=\"text-align: right;\">\n",
              "      <th></th>\n",
              "      <th>Unnamed: 0</th>\n",
              "      <th>Title</th>\n",
              "      <th>IMDB</th>\n",
              "      <th>G_news</th>\n",
              "      <th>Genre</th>\n",
              "    </tr>\n",
              "  </thead>\n",
              "  <tbody>\n",
              "    <tr>\n",
              "      <th>1024</th>\n",
              "      <td>1024</td>\n",
              "      <td>Bharat</td>\n",
              "      <td>5.9</td>\n",
              "      <td>0.50</td>\n",
              "      <td>2</td>\n",
              "    </tr>\n",
              "    <tr>\n",
              "      <th>1025</th>\n",
              "      <td>1025</td>\n",
              "      <td>Kabir Singh</td>\n",
              "      <td>8.5</td>\n",
              "      <td>0.60</td>\n",
              "      <td>2</td>\n",
              "    </tr>\n",
              "    <tr>\n",
              "      <th>1026</th>\n",
              "      <td>1026</td>\n",
              "      <td>Drive</td>\n",
              "      <td>7.3</td>\n",
              "      <td>0.50</td>\n",
              "      <td>6</td>\n",
              "    </tr>\n",
              "    <tr>\n",
              "      <th>1027</th>\n",
              "      <td>1027</td>\n",
              "      <td>Dream Girl</td>\n",
              "      <td>6.5</td>\n",
              "      <td>0.50</td>\n",
              "      <td>3</td>\n",
              "    </tr>\n",
              "    <tr>\n",
              "      <th>1028</th>\n",
              "      <td>1028</td>\n",
              "      <td>Street Dancer</td>\n",
              "      <td>5.7</td>\n",
              "      <td>0.55</td>\n",
              "      <td>4</td>\n",
              "    </tr>\n",
              "  </tbody>\n",
              "</table>\n",
              "</div>"
            ],
            "text/plain": [
              "      Unnamed: 0          Title  IMDB  G_news  Genre\n",
              "1024        1024         Bharat   5.9    0.50      2\n",
              "1025        1025    Kabir Singh   8.5    0.60      2\n",
              "1026        1026          Drive   7.3    0.50      6\n",
              "1027        1027     Dream Girl   6.5    0.50      3\n",
              "1028        1028  Street Dancer   5.7    0.55      4"
            ]
          },
          "metadata": {
            "tags": []
          },
          "execution_count": 41
        }
      ]
    },
    {
      "cell_type": "code",
      "metadata": {
        "id": "1lGEtATB4jxo"
      },
      "source": [
        "ab.to_csv('Imdb_genre_gnews.csv')"
      ],
      "execution_count": null,
      "outputs": []
    },
    {
      "cell_type": "code",
      "metadata": {
        "id": "HKih0tIF4723"
      },
      "source": [
        ""
      ],
      "execution_count": null,
      "outputs": []
    }
  ]
}