{
  "nbformat": 4,
  "nbformat_minor": 0,
  "metadata": {
    "colab": {
      "name": "Project.ipynb",
      "provenance": [],
      "collapsed_sections": []
    },
    "kernelspec": {
      "name": "python3",
      "display_name": "Python 3"
    },
    "accelerator": "TPU"
  },
  "cells": [
    {
      "cell_type": "markdown",
      "metadata": {
        "id": "RAz7AD4VttlM"
      },
      "source": [
        "\n",
        "\n",
        "---\n",
        "\n",
        "**GENRE**\n",
        "\n",
        "\n",
        "\n",
        "---\n",
        "\n",
        "\n",
        "\n"
      ]
    },
    {
      "cell_type": "code",
      "metadata": {
        "id": "OQAavSgYpHCQ",
        "outputId": "d93f9640-1a14-4ad9-c9cd-b1bf6aba702d",
        "colab": {
          "base_uri": "https://localhost:8080/",
          "height": 68
        }
      },
      "source": [
        "!pip install IMDbPY\n",
        "import imdb\n"
      ],
      "execution_count": null,
      "outputs": [
        {
          "output_type": "stream",
          "text": [
            "Requirement already satisfied: IMDbPY in /usr/local/lib/python3.6/dist-packages (6.8)\n",
            "Requirement already satisfied: SQLAlchemy in /usr/local/lib/python3.6/dist-packages (from IMDbPY) (1.3.19)\n",
            "Requirement already satisfied: lxml in /usr/local/lib/python3.6/dist-packages (from IMDbPY) (4.2.6)\n"
          ],
          "name": "stdout"
        }
      ]
    },
    {
      "cell_type": "code",
      "metadata": {
        "id": "HEgGnCmoswgt"
      },
      "source": [
        "def genre(gen):\n",
        "  switcher={\n",
        "            'Adventure':1,\n",
        "            'Action':2,\n",
        "            'Drama':4,\n",
        "            'Comedy':3,\n",
        "            'Thriller':5,\n",
        "            'Horror':7,\n",
        "            'Crime':6,\n",
        "            'Western':10, \n",
        "            'Short':11,\n",
        "            'Animation':8,\n",
        "            'History':9,\n",
        "             }\n",
        "  return switcher.get(gen,6)"
      ],
      "execution_count": null,
      "outputs": []
    },
    {
      "cell_type": "code",
      "metadata": {
        "id": "JGruHoB9sX-_"
      },
      "source": [
        "def Imdb(movie):\n",
        "  try:\n",
        "    o = imdb.IMDb()\n",
        "    a = o.search_movie(movie)\n",
        "    b = o.get_movie(a[0].movieID)\n",
        "    c = b.get('genres')\n",
        "    return(genre(c[0]))\n",
        "    \n",
        "  except:\n",
        "    return(0)"
      ],
      "execution_count": null,
      "outputs": []
    },
    {
      "cell_type": "markdown",
      "metadata": {
        "id": "isoa3YnCt7gc"
      },
      "source": [
        "\n",
        "\n",
        "---\n",
        "\n",
        "**GOOGLE_NEWS**\n",
        "\n",
        "---\n",
        "\n"
      ]
    },
    {
      "cell_type": "code",
      "metadata": {
        "id": "xkEiUks-uASk",
        "outputId": "30630f83-913f-4848-f0c6-b72256a68953",
        "colab": {
          "base_uri": "https://localhost:8080/",
          "height": 173
        }
      },
      "source": [
        "!pip install GoogleNews\n",
        "from GoogleNews import GoogleNews\n",
        "googlenews = GoogleNews()\n",
        "!pip install vadersentiment\n",
        "from vaderSentiment.vaderSentiment import SentimentIntensityAnalyzer"
      ],
      "execution_count": null,
      "outputs": [
        {
          "output_type": "stream",
          "text": [
            "Requirement already satisfied: GoogleNews in /usr/local/lib/python3.6/dist-packages (1.4.1)\n",
            "Requirement already satisfied: beautifulsoup4 in /usr/local/lib/python3.6/dist-packages (from GoogleNews) (4.6.3)\n",
            "Requirement already satisfied: vadersentiment in /usr/local/lib/python3.6/dist-packages (3.3.2)\n",
            "Requirement already satisfied: requests in /usr/local/lib/python3.6/dist-packages (from vadersentiment) (2.23.0)\n",
            "Requirement already satisfied: certifi>=2017.4.17 in /usr/local/lib/python3.6/dist-packages (from requests->vadersentiment) (2020.6.20)\n",
            "Requirement already satisfied: urllib3!=1.25.0,!=1.25.1,<1.26,>=1.21.1 in /usr/local/lib/python3.6/dist-packages (from requests->vadersentiment) (1.24.3)\n",
            "Requirement already satisfied: idna<3,>=2.5 in /usr/local/lib/python3.6/dist-packages (from requests->vadersentiment) (2.10)\n",
            "Requirement already satisfied: chardet<4,>=3.0.2 in /usr/local/lib/python3.6/dist-packages (from requests->vadersentiment) (3.0.4)\n"
          ],
          "name": "stdout"
        }
      ]
    },
    {
      "cell_type": "code",
      "metadata": {
        "id": "pTH3Vw3autul"
      },
      "source": [
        "def vader(text):\n",
        "  analyzer = SentimentIntensityAnalyzer()\n",
        "  sent = analyzer.polarity_scores(text)\n",
        "  return sent"
      ],
      "execution_count": null,
      "outputs": []
    },
    {
      "cell_type": "code",
      "metadata": {
        "id": "Z5eJK6wxu44S"
      },
      "source": [
        "def average(arr):\n",
        "  a = 0\n",
        "  for i in range(len(arr)):\n",
        "    a = a + arr[i]['compound']\n",
        "  try: \n",
        "    a = (a/len(arr))\n",
        "    a = round(a,1)\n",
        "    return(a)\n",
        "  except ZeroDivisionError:\n",
        "    return(0)"
      ],
      "execution_count": null,
      "outputs": []
    },
    {
      "cell_type": "code",
      "metadata": {
        "id": "2xY1QAq4ubwf"
      },
      "source": [
        "def google(key):\n",
        "  googlenews.clear()\n",
        "  c = googlenews.search(key)\n",
        "  a = googlenews.gettext()\n",
        "  \n",
        "  arr = []\n",
        "  for i in range(len(a)):\n",
        "    b = vader(a[i])\n",
        "    arr.append(b)\n",
        "    \n",
        "  num = average(arr)\n",
        "  num = (num+1)/2\n",
        "  \n",
        "  return(num)"
      ],
      "execution_count": null,
      "outputs": []
    },
    {
      "cell_type": "markdown",
      "metadata": {
        "id": "L8p7UWtWwINe"
      },
      "source": [
        "\n",
        "\n",
        "---\n",
        "\n",
        "**TWITTER**\n",
        "\n",
        "---\n",
        "\n"
      ]
    },
    {
      "cell_type": "code",
      "metadata": {
        "id": "bzucK39OvAeO"
      },
      "source": [
        "import tweepy\n",
        "import csv #Import csv\n",
        "import os\n",
        "#from google.colab import files\n",
        "from textblob import TextBlob\n",
        "\n",
        "# Consumer keys and access tokens, used for OAuth\n",
        "consumer_key = '*******************************'\n",
        "consumer_secret = '*******************************'\n",
        "access_token = '*******************************'\n",
        "access_token_secret = '*******************************'\n",
        "# OAuth process, using the keys and tokens\n",
        "auth = tweepy.OAuthHandler(consumer_key, consumer_secret)\n",
        "auth.set_access_token(access_token, access_token_secret)"
      ],
      "execution_count": null,
      "outputs": []
    },
    {
      "cell_type": "code",
      "metadata": {
        "id": "ClbobbuXwYeX"
      },
      "source": [
        "def vader(text):\n",
        "  analyzer = SentimentIntensityAnalyzer()\n",
        "  sent = analyzer.polarity_scores(text)\n",
        "  return sent\n"
      ],
      "execution_count": null,
      "outputs": []
    },
    {
      "cell_type": "code",
      "metadata": {
        "id": "3XTKFeQGwcbu"
      },
      "source": [
        "def pol(text):\n",
        "  t = TextBlob(text)\n",
        "  ti = t.sentiment.polarity\n",
        "  return ti"
      ],
      "execution_count": null,
      "outputs": []
    },
    {
      "cell_type": "code",
      "metadata": {
        "id": "-dlCOlEswmWH"
      },
      "source": [
        "def sub(text):\n",
        "  t = TextBlob(text)\n",
        "  ti = t.sentiment.subjectivity\n",
        "  return ti"
      ],
      "execution_count": null,
      "outputs": []
    },
    {
      "cell_type": "code",
      "metadata": {
        "id": "C1-Gc-90w0sG"
      },
      "source": [
        "def tweet(movie):\n",
        "  key = movie\n",
        "  api = tweepy.API(auth,wait_on_rate_limit = True)\n",
        "  #print(key)\n",
        "\n",
        "  list_tweets = []\n",
        "  #since=date_since\n",
        "  #date_since = \"2018-11-16\"\n",
        "  for status in tweepy.Cursor(api.search, q = key+\"-filter:retweets\", lang = 'en', result_type = 'mixed').items(100):\n",
        "    list_tweets.append(status.text)\n",
        "    \n",
        "    \n",
        "  \n",
        "  import re\n",
        "  list_new = []\n",
        "\n",
        "  for tweet in list_tweets:\n",
        "      tweet = re.sub(r\"^https://t.co/[a-zA-Z0-9]*\\s\", \" \", tweet)\n",
        "      tweet = re.sub(r\"\\s+https://t.co/[a-zA-Z0-9]*\\s\", \" \", tweet)\n",
        "      tweet = re.sub(r\"\\s+https://t.co/[a-zA-Z0-9]*$\", \" \", tweet)\n",
        "      tweet = tweet.lower()\n",
        "      tweet = re.sub(r\"that's\",\"that is\",tweet)\n",
        "      tweet = re.sub(r\"there's\",\"there is\",tweet)\n",
        "      tweet = re.sub(r\"what's\",\"what is\",tweet)\n",
        "      tweet = re.sub(r\"where's\",\"where is\",tweet)\n",
        "      tweet = re.sub(r\"it's\",\"it is\",tweet)\n",
        "      tweet = re.sub(r\"who's\",\"who is\",tweet)\n",
        "      tweet = re.sub(r\"i'm\",\"i am\",tweet)\n",
        "      tweet = re.sub(r\"she's\",\"she is\",tweet)\n",
        "      tweet = re.sub(r\"he's\",\"he is\",tweet)\n",
        "      tweet = re.sub(r\"they're\",\"they are\",tweet)\n",
        "      tweet = re.sub(r\"who're\",\"who are\",tweet)\n",
        "      tweet = re.sub(r\"ain't\",\"am not\",tweet)\n",
        "      tweet = re.sub(r\"wouldn't\",\"would not\",tweet)\n",
        "      tweet = re.sub(r\"shouldn't\",\"should not\",tweet)\n",
        "      tweet = re.sub(r\"can't\",\"can not\",tweet)\n",
        "      tweet = re.sub(r\"couldn't\",\"could not\",tweet)\n",
        "      tweet = re.sub(r\"won't\",\"will not\",tweet)\n",
        "      tweet = re.sub(r\"\\W\",\" \",tweet)\n",
        "      tweet = re.sub(r\"\\d\",\" \",tweet)\n",
        "      tweet = re.sub(r\"\\s+[a-z]\\s+\",\" \",tweet)\n",
        "      tweet = re.sub(r\"\\s+[a-z]$\",\" \",tweet)\n",
        "      tweet = re.sub(r\"^[a-z]\\s+\",\" \",tweet)\n",
        "      tweet = re.sub(r\"\\s+\",\" \",tweet)\n",
        "\n",
        "      #print(tweet,'\\n')\n",
        "      list_new.append(tweet)\n",
        "  #return(list_new)\n",
        "      \n",
        "  \n",
        "  def vader_1(list_new):\n",
        "    arr = []\n",
        "    for i in range(len(list_new)):\n",
        "      v = vader(list_new[i])\n",
        "      arr.append(v)\n",
        "\n",
        "\n",
        "    a = 0\n",
        "    for i in range(len(arr)):\n",
        "      a = a + arr[i]['compound']\n",
        "    try: \n",
        "      a = (a/len(arr))#*33.3\n",
        "      a = round(a,2)\n",
        "      return(a)\n",
        "    except ZeroDivisionError:\n",
        "      return(0)\n",
        "    \n",
        "    \n",
        "    \n",
        "  \n",
        "  def polar_1(list_new):\n",
        "    arr = []\n",
        "    for i in range(len(list_new)):\n",
        "      v = pol(list_new[i])\n",
        "      arr.append(v)\n",
        "\n",
        "\n",
        "    a = 0\n",
        "    for i in range(len(arr)):\n",
        "      a = a + arr[i]\n",
        "    try: \n",
        "      a = (a/len(arr))\n",
        "      a = round(a,2)\n",
        "      return(a)\n",
        "    except ZeroDivisionError:\n",
        "      return(0)\n",
        "    \n",
        "    \n",
        "    \n",
        "    \n",
        "  def subject_1(list_new):\n",
        "    arr = []\n",
        "    for i in range(len(list_new)):\n",
        "      v = sub(list_new[i])\n",
        "      arr.append(v)\n",
        "\n",
        "\n",
        "    a = 0\n",
        "    for i in range(len(arr)):\n",
        "      a = a + arr[i]\n",
        "    try: \n",
        "      a = (a/len(arr))\n",
        "      a = round(a,2)\n",
        "      return(a)\n",
        "    except ZeroDivisionError:\n",
        "      return(0)\n",
        "  \n",
        "  v = vader_1(list_new)\n",
        "  p = polar_1(list_new)\n",
        "  s = subject_1(list_new)\n",
        "  \n",
        "  result = [v,p,s]\n",
        "  return(result)"
      ],
      "execution_count": null,
      "outputs": []
    },
    {
      "cell_type": "markdown",
      "metadata": {
        "id": "FIIEZwn0yOhb"
      },
      "source": [
        "\n",
        "\n",
        "---\n",
        "\n",
        "**MODEL**\n",
        "\n",
        "---\n",
        "\n"
      ]
    },
    {
      "cell_type": "code",
      "metadata": {
        "id": "HLf6XhsMxEuq"
      },
      "source": [
        "import pandas as pd\n",
        "import numpy as np\n",
        "import matplotlib.pyplot as plt\n",
        "from sklearn.tree import DecisionTreeRegressor\n",
        "from sklearn.linear_model import LinearRegression\n",
        "from sklearn.svm import SVR\n",
        "from sklearn.ensemble import RandomForestRegressor\n",
        "from sklearn.neural_network import MLPRegressor\n",
        "\n",
        "from sklearn.model_selection import cross_val_score as cvs\n",
        "from sklearn.model_selection import train_test_split\n",
        "from sklearn import neighbors, datasets, preprocessing\n",
        "from sklearn.metrics import mean_absolute_error as mae\n",
        "from sklearn.metrics import mean_squared_error as mse"
      ],
      "execution_count": null,
      "outputs": []
    },
    {
      "cell_type": "code",
      "metadata": {
        "id": "cl6ACCHHyVEg"
      },
      "source": [
        "df = pd.read_csv(\"FINAL_DATASET.csv\", header = 0)"
      ],
      "execution_count": null,
      "outputs": []
    },
    {
      "cell_type": "code",
      "metadata": {
        "id": "E5FoaP3IydLG"
      },
      "source": [
        "'''df = df.drop(\"Unnamed: 0\", axis = 1)'''\n",
        "#df = df.drop('Vader', axis = 1)\n",
        "#df = df.drop('Polar', axis = 1)\n",
        "#df = df.drop('Subject', axis = 1)\n",
        "#df = df.drop('Genre', axis = 1)\n",
        "#df = df.drop('G_news', axis = 1)\n",
        "df = df.set_index(\"Title\")\n",
        "df1 = df.values\n",
        "X = df1[:,0:5]\n",
        "Y = df1[:,5]\n"
      ],
      "execution_count": null,
      "outputs": []
    },
    {
      "cell_type": "code",
      "metadata": {
        "id": "h_mBZ_UmuMod",
        "outputId": "a7a6fd2f-840c-4e0d-ff12-afea618fc45a",
        "colab": {
          "base_uri": "https://localhost:8080/",
          "height": 136
        }
      },
      "source": [
        "df.count()"
      ],
      "execution_count": null,
      "outputs": [
        {
          "output_type": "execute_result",
          "data": {
            "text/plain": [
              "Genre      1014\n",
              "G_news     1014\n",
              "Vader      1014\n",
              "Polar      1014\n",
              "Subject    1014\n",
              "IMDB       1014\n",
              "dtype: int64"
            ]
          },
          "metadata": {
            "tags": []
          },
          "execution_count": 166
        }
      ]
    },
    {
      "cell_type": "code",
      "metadata": {
        "id": "6cXtSQt-yqK6"
      },
      "source": [
        "X_train, X_test, y_train, y_test = train_test_split(X, Y, test_size = 0.2, random_state = 0)"
      ],
      "execution_count": null,
      "outputs": []
    },
    {
      "cell_type": "code",
      "metadata": {
        "id": "yrRZQKAVTMj8"
      },
      "source": [
        "scaler = preprocessing.StandardScaler().fit(X_train)\n",
        "X_train = scaler.transform(X_train)\n",
        "X_test = scaler.transform(X_test)"
      ],
      "execution_count": null,
      "outputs": []
    },
    {
      "cell_type": "code",
      "metadata": {
        "id": "p2ANa-lCyq03",
        "outputId": "b63dc5a5-3ba2-457d-cc6d-d4d51a60fc0e",
        "colab": {
          "base_uri": "https://localhost:8080/",
          "height": 224
        }
      },
      "source": [
        "#reg = DecisionTreeRegressor(random_state = 0)\n",
        "#reg.fit(X_train,y_train)\n",
        "\n",
        "\n",
        "#reg= RandomForestRegressor(n_estimators = 300, random_state = 0)\n",
        "#reg.fit(X_train, y_train)\n",
        "\n",
        "\n",
        "#reg = SVR(kernel='rbf')\n",
        "#reg.fit(X_train,y_train)\n",
        "\n",
        "\n",
        "reg = MLPRegressor(solver='sgd', max_iter=100, activation='relu',random_state=1, learning_rate_init=0.01,batch_size=X.shape[0])\n",
        "reg.fit(X_train, y_train)\n",
        "\n",
        "\n",
        "#reg = LinearRegression()  \n",
        "#reg.fit(X_train, y_train)"
      ],
      "execution_count": null,
      "outputs": [
        {
          "output_type": "stream",
          "text": [
            "/usr/local/lib/python3.6/dist-packages/sklearn/neural_network/_multilayer_perceptron.py:352: UserWarning: Got `batch_size` less than 1 or larger than sample size. It is going to be clipped\n",
            "  warnings.warn(\"Got `batch_size` less than 1 or larger than \"\n",
            "/usr/local/lib/python3.6/dist-packages/sklearn/neural_network/_multilayer_perceptron.py:571: ConvergenceWarning: Stochastic Optimizer: Maximum iterations (100) reached and the optimization hasn't converged yet.\n",
            "  % self.max_iter, ConvergenceWarning)\n"
          ],
          "name": "stderr"
        },
        {
          "output_type": "execute_result",
          "data": {
            "text/plain": [
              "MLPRegressor(activation='relu', alpha=0.0001, batch_size=1014, beta_1=0.9,\n",
              "             beta_2=0.999, early_stopping=False, epsilon=1e-08,\n",
              "             hidden_layer_sizes=(100,), learning_rate='constant',\n",
              "             learning_rate_init=0.01, max_fun=15000, max_iter=100, momentum=0.9,\n",
              "             n_iter_no_change=10, nesterovs_momentum=True, power_t=0.5,\n",
              "             random_state=1, shuffle=True, solver='sgd', tol=0.0001,\n",
              "             validation_fraction=0.1, verbose=False, warm_start=False)"
            ]
          },
          "metadata": {
            "tags": []
          },
          "execution_count": 169
        }
      ]
    },
    {
      "cell_type": "code",
      "metadata": {
        "id": "QKv732_nTM0d",
        "outputId": "4a69404d-4645-44f2-dfa8-e65ca9ce3a0b",
        "colab": {
          "base_uri": "https://localhost:8080/",
          "height": 34
        }
      },
      "source": [
        "y_pred = reg.predict(X_test)\n",
        "y_pred = np.round(y_pred, 1)\n",
        "mae(y_test, y_pred)\n"
      ],
      "execution_count": null,
      "outputs": [
        {
          "output_type": "execute_result",
          "data": {
            "text/plain": [
              "1.2014778325123152"
            ]
          },
          "metadata": {
            "tags": []
          },
          "execution_count": 170
        }
      ]
    },
    {
      "cell_type": "code",
      "metadata": {
        "id": "iJMqnR-SUa2X",
        "outputId": "9fd7b974-fcf3-4a0c-9158-d5ab2f8d1e6b",
        "colab": {
          "base_uri": "https://localhost:8080/",
          "height": 34
        }
      },
      "source": [
        "mse(y_test, y_pred)"
      ],
      "execution_count": null,
      "outputs": [
        {
          "output_type": "execute_result",
          "data": {
            "text/plain": [
              "2.1613300492610836"
            ]
          },
          "metadata": {
            "tags": []
          },
          "execution_count": 171
        }
      ]
    },
    {
      "cell_type": "code",
      "metadata": {
        "id": "gnJLczZYgfwc",
        "outputId": "c16188f0-5c5e-40b3-d083-7a13d3d4c075",
        "colab": {
          "base_uri": "https://localhost:8080/",
          "height": 34
        }
      },
      "source": [
        "import numpy as np\n",
        "\n",
        "def mape(y_true, y_pred): \n",
        "    y_true, y_pred = np.array(y_true), np.array(y_pred)\n",
        "    return np.mean(np.abs((y_true - y_pred) / y_true)) * 100\n",
        "\n",
        "mape(y_test, y_pred)\n",
        "\n",
        "  "
      ],
      "execution_count": null,
      "outputs": [
        {
          "output_type": "execute_result",
          "data": {
            "text/plain": [
              "25.224209136299987"
            ]
          },
          "metadata": {
            "tags": []
          },
          "execution_count": 172
        }
      ]
    },
    {
      "cell_type": "markdown",
      "metadata": {
        "id": "h50FY3kb02nL"
      },
      "source": [
        "\n",
        "\n",
        "---\n",
        "\n",
        "**RUN**\n",
        "\n",
        "---\n",
        "\n"
      ]
    },
    {
      "cell_type": "code",
      "metadata": {
        "id": "3JYl7bS1zjPW"
      },
      "source": [
        "def project(movie):\n",
        "  g = Imdb(movie)\n",
        "  gn = google(movie)\n",
        "  t = tweet(movie)\n",
        "  return([g, gn, t[0], t[1], t[2]])"
      ],
      "execution_count": null,
      "outputs": []
    },
    {
      "cell_type": "code",
      "metadata": {
        "id": "BJQTYeuOzOzo"
      },
      "source": [
        "movie = ''"
      ],
      "execution_count": null,
      "outputs": []
    },
    {
      "cell_type": "code",
      "metadata": {
        "id": "U5AFW1tZz7Jh"
      },
      "source": [
        "film = project(movie)"
      ],
      "execution_count": null,
      "outputs": []
    },
    {
      "cell_type": "code",
      "metadata": {
        "id": "ehuuMGiqz9o5"
      },
      "source": [
        "output = reg.predict([film])"
      ],
      "execution_count": null,
      "outputs": []
    },
    {
      "cell_type": "code",
      "metadata": {
        "id": "9N_BzvgK0QRP",
        "outputId": "4e5a9de7-f935-4592-c8bb-e606efa6c14c",
        "colab": {
          "base_uri": "https://localhost:8080/",
          "height": 34
        }
      },
      "source": [
        "print(round(output[0],1))"
      ],
      "execution_count": null,
      "outputs": [
        {
          "output_type": "stream",
          "text": [
            "6.2\n"
          ],
          "name": "stdout"
        }
      ]
    },
    {
      "cell_type": "code",
      "metadata": {
        "id": "DTm7SHF5oKZQ"
      },
      "source": [
        ""
      ],
      "execution_count": null,
      "outputs": []
    }
  ]
}